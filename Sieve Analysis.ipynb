{
 "cells": [
  {
   "cell_type": "markdown",
   "id": "fb2f4653",
   "metadata": {},
   "source": [
    "### Sieve Analysis using Python"
   ]
  },
  {
   "cell_type": "markdown",
   "id": "0961bcfb",
   "metadata": {},
   "source": [
    "We will create a simple program that computes Sieve Analysis in Aggregates using Python program. (Reference: ASTM C136). We will if-elif-else and for-loop if possible."
   ]
  },
  {
   "cell_type": "markdown",
   "id": "5002d0e6",
   "metadata": {},
   "source": [
    "First, we will identify all the parameters needed for our calculations. "
   ]
  },
  {
   "cell_type": "code",
   "execution_count": 36,
   "id": "0a88c948",
   "metadata": {},
   "outputs": [
    {
     "name": "stdout",
     "output_type": "stream",
     "text": [
      "Enter the sample name: Vibrosand\n",
      "Enter the weight of original sample: 903\n",
      "Enter the weight of oven dried sample: 856\n",
      "The moisture content is: 5.490654205607477\n",
      "Enter the retained in grams: 15\n",
      "The percent retained is: 1.7523364485981308\n",
      "The weight passing is: 841\n",
      "The percent passing is: 98.24766355140187\n"
     ]
    }
   ],
   "source": [
    "# Enter the weight of original sample and oven-dried samples;\n",
    "\n",
    "sample = str(input(\"Enter the sample name: \"))\n",
    "\n",
    "mass_of_original = int(input(\"Enter the weight of original sample: \"))\n",
    "\n",
    "mass_of_ovendried = int(input(\"Enter the weight of oven dried sample: \"))\n",
    "\n",
    "moisture_content = int(mass_of_original - mass_of_ovendried) / (mass_of_ovendried) * (100)\n",
    "\n",
    "\n",
    "print(\"The moisture content is: \" + str(moisture_content))\n",
    "\n",
    "\n",
    "# Now we can go to the calculations of sieve analysis proper;\n",
    "\n",
    "retained = int(input(\"Enter the retained in grams: \"))\n",
    "\n",
    "\n",
    "# The formula for calculations in percent retained..\n",
    "\n",
    "percent_retained = (retained / mass_of_ovendried) * (100)\n",
    "\n",
    "print(\"The percent retained is: \" + str(percent_retained))\n",
    "\n",
    "\n",
    "# The formula for calculations in weight passing % \n",
    "\n",
    "weight_passing = (mass_of_ovendried - retained)\n",
    "\n",
    "\n",
    "print(\"The weight passing is: \" + str(weight_passing))\n",
    "\n",
    "\n",
    "# The formula for calculations in percent passing %\n",
    "\n",
    "percent_passing = (100 - percent_retained)\n",
    "\n",
    "print(\"The percent passing is: \" + str(percent_passing))"
   ]
  },
  {
   "cell_type": "code",
   "execution_count": null,
   "id": "a7ed4dfc",
   "metadata": {},
   "outputs": [],
   "source": []
  }
 ],
 "metadata": {
  "kernelspec": {
   "display_name": "Python 3 (ipykernel)",
   "language": "python",
   "name": "python3"
  },
  "language_info": {
   "codemirror_mode": {
    "name": "ipython",
    "version": 3
   },
   "file_extension": ".py",
   "mimetype": "text/x-python",
   "name": "python",
   "nbconvert_exporter": "python",
   "pygments_lexer": "ipython3",
   "version": "3.11.4"
  }
 },
 "nbformat": 4,
 "nbformat_minor": 5
}
