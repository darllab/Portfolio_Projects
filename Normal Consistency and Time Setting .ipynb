{
 "cells": [
  {
   "cell_type": "markdown",
   "id": "c86db0f6",
   "metadata": {},
   "source": [
    "### Determination of Normal Consistency and Time Setting using Python "
   ]
  },
  {
   "cell_type": "markdown",
   "id": "e64a2e8a",
   "metadata": {},
   "source": [
    "I'm back! In this series of practicing my Python coding skills, i try to create a simple program to determine Normal Consistency and Time Setting (Reference ASTM C187 & C191)\n",
    "\n",
    "Please read comments in each script. "
   ]
  },
  {
   "cell_type": "code",
   "execution_count": 2,
   "id": "a14a5450",
   "metadata": {},
   "outputs": [
    {
     "name": "stdout",
     "output_type": "stream",
     "text": [
      "Enter the water-cement ratio: 0.26\n",
      "Enter the penetration value: 10\n",
      "Enter the temperature of cement: 34.2\n",
      "Enter the ambient temperature: 23.1\n",
      "The penetration value is: 10\n",
      "Enter the time value in penetration below 25: 120\n",
      "Enter the time value in penetration above 25: 105\n",
      "Enter the penetration reading above 25: 26\n",
      "Enter the penetration reading below 25: 21\n",
      "Enter the final setting: 180\n",
      "The initial setting is: 111.0\n"
     ]
    }
   ],
   "source": [
    "# We will input the penetration first. The objective to this is to get penetration from 9 or to 11. There is no computation to this now.\n",
    "\n",
    "water_cement_ratio = float(input(\"Enter the water-cement ratio: \"))\n",
    "\n",
    "penetration = int(input(\"Enter the penetration value: \"))\n",
    "\n",
    "temp_cement = float(input(\"Enter the temperature of cement: \"))\n",
    "\n",
    "ambient_temp = float(input(\"Enter the ambient temperature: \"))\n",
    "\n",
    "print(\"The penetration value is: \" + str(penetration))\n",
    "\n",
    "# Now, we will determine the time setting of cement using Vicat, (Reference: ASTM C191)\n",
    "\n",
    "time_1 = int(input(\"Enter the time value in penetration below 25: \"))\n",
    "\n",
    "time_2 = int(input(\"Enter the time value in penetration above 25: \"))\n",
    "\n",
    "reading_1 = int(input(\"Enter the penetration reading above 25: \"))\n",
    "\n",
    "reading_2 = int(input(\"Enter the penetration reading below 25: \"))\n",
    "\n",
    "initial_setting = (time_1 - time_2) / (reading_1 - reading_2) * (reading_1 - 25) + (time_2 + 3)\n",
    "\n",
    "final_setting = int(input(\"Enter the final setting: \"))\n",
    "\n",
    "print(\"The initial setting is: \" + str(initial_setting))\n"
   ]
  },
  {
   "cell_type": "code",
   "execution_count": 4,
   "id": "470f4da2",
   "metadata": {},
   "outputs": [
    {
     "name": "stdout",
     "output_type": "stream",
     "text": [
      "The final setting met the requirement\n"
     ]
    }
   ],
   "source": [
    "# Now that we already determine what the initial setting is, we have to determine the final setting as what in the ASTM says using if-else-elif statement\n",
    "\n",
    "if final_setting > 100:\n",
    "    print(\"The final setting met the requirement\")\n",
    "    \n",
    "elif final_setting >= 50: \n",
    "    print(\"The final setting is within the requirement\")\n",
    "    \n",
    "elif final_setting < 50:\n",
    "    print(\"The final setting did not met the requirement\")"
   ]
  }
 ],
 "metadata": {
  "kernelspec": {
   "display_name": "Python 3 (ipykernel)",
   "language": "python",
   "name": "python3"
  },
  "language_info": {
   "codemirror_mode": {
    "name": "ipython",
    "version": 3
   },
   "file_extension": ".py",
   "mimetype": "text/x-python",
   "name": "python",
   "nbconvert_exporter": "python",
   "pygments_lexer": "ipython3",
   "version": "3.11.4"
  }
 },
 "nbformat": 4,
 "nbformat_minor": 5
}
